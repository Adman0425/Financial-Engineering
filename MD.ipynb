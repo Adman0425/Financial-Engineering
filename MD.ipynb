{
 "cells": [
  {
   "cell_type": "code",
   "execution_count": 5,
   "metadata": {},
   "outputs": [
    {
     "name": "stdout",
     "output_type": "stream",
     "text": [
      "md: 1.9753449501262168\n"
     ]
    }
   ],
   "source": [
    "def calculate_md(C, y):\n",
    "    \"\"\"\n",
    "    Calculate md based on the given formula.\n",
    "\n",
    "    Parameters:\n",
    "    - C (list): List of cash flows.\n",
    "    - y (float): Interest rate.\n",
    "\n",
    "    Returns:\n",
    "    - md (float): Calculated md value.\n",
    "    \"\"\"\n",
    "    n = len(C)\n",
    "    md = 0\n",
    "    for i in range(1, n+1):\n",
    "        md += i * C[i-1] / (1 + y) ** i\n",
    "    md = md / p\n",
    "    return md\n",
    "\n",
    "# Example data\n",
    "C = [1.5, 101.5]  # Cash flows\n",
    "y = 0.015  # Interest rate\n",
    "p = 100.5\n",
    "\n",
    "# Calculate md\n",
    "md = calculate_md(C, y)\n",
    "print(\"md:\", md)\n"
   ]
  },
  {
   "cell_type": "code",
   "execution_count": 7,
   "metadata": {},
   "outputs": [
    {
     "name": "stdout",
     "output_type": "stream",
     "text": [
      "195.58834235239883\n"
     ]
    }
   ],
   "source": [
    "dd = md * p / (1 + y)\n",
    "print(dd)"
   ]
  },
  {
   "cell_type": "code",
   "execution_count": null,
   "metadata": {},
   "outputs": [],
   "source": []
  }
 ],
 "metadata": {
  "kernelspec": {
   "display_name": "Python 3",
   "language": "python",
   "name": "python3"
  },
  "language_info": {
   "codemirror_mode": {
    "name": "ipython",
    "version": 3
   },
   "file_extension": ".py",
   "mimetype": "text/x-python",
   "name": "python",
   "nbconvert_exporter": "python",
   "pygments_lexer": "ipython3",
   "version": "3.8.3"
  }
 },
 "nbformat": 4,
 "nbformat_minor": 4
}
