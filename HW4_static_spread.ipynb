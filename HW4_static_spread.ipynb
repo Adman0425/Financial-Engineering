{
 "cells": [
  {
   "cell_type": "code",
   "execution_count": 1,
   "metadata": {},
   "outputs": [],
   "source": [
    "import numpy as np"
   ]
  },
  {
   "cell_type": "code",
   "execution_count": 1,
   "metadata": {},
   "outputs": [
    {
     "name": "stdin",
     "output_type": "stream",
     "text": [
      "Enter principal:  100\n",
      "Enter period:  3\n"
     ]
    },
    {
     "name": "stdout",
     "output_type": "stream",
     "text": [
      "Enter yield rate:\n"
     ]
    },
    {
     "name": "stdin",
     "output_type": "stream",
     "text": [
      "第 1 期:  0.0199\n",
      "第 2 期:  0.0249\n",
      "第 3 期:  0.0335\n",
      "Enter coupon rate:  0.01\n",
      "Enter yield spread:  0.03\n"
     ]
    }
   ],
   "source": [
    "face_value = int(input(\"Enter principal: \"))\n",
    "n = int(input(\"Enter period: \"))\n",
    "yield_rate = [0.0] * n\n",
    "zero_rate = [0.0000] * n\n",
    "\n",
    "print(\"Enter yield rate:\")\n",
    "for i in range(n):\n",
    "    yield_rate[i] = float(input(f\"第 {i+1} 期: \"))\n",
    "\n",
    "coupon_rate = float(input(\"Enter coupon rate: \"))\n",
    "yield_spread = float(input(\"Enter yield spread: \"))\n",
    "coupon = face_value * coupon_rate"
   ]
  },
  {
   "cell_type": "code",
   "execution_count": 2,
   "metadata": {},
   "outputs": [
    {
     "name": "stdout",
     "output_type": "stream",
     "text": [
      "第1期 zero rate = 0.0199\n",
      "第2期 zero rate = 0.0249\n",
      "第3期 zero rate = 0.0336\n"
     ]
    }
   ],
   "source": [
    "zero_rate[0] = yield_rate[0]\n",
    "\n",
    "for i in range(1, n):\n",
    "    bond_value = 0\n",
    "    for j in range(i + 1):\n",
    "        discount = 1\n",
    "        for k in range(j + 1):\n",
    "            discount /= (1 + yield_rate[i])\n",
    "        bond_value += discount * coupon\n",
    "        if j == i:\n",
    "            bond_value += face_value * discount\n",
    "    #print(bond_value)\n",
    "    \n",
    "    for j in range(i):\n",
    "        PV = coupon\n",
    "        for k in range(j + 1):\n",
    "            PV /= (1 + zero_rate[j])\n",
    "        bond_value -= PV\n",
    "\n",
    "    # zero_rate[i] = ((coupon + face_value) / bond_value) ** (1.0 / (i + 1)) - 1 # Calculate spot rate\n",
    "    zero_rate[i] = round(((coupon + face_value) / bond_value) ** (1.0 / (i + 1)) - 1, 4) # 計算並四捨五入到小數點後四位\n",
    "\n",
    "for i in range(n):\n",
    "    print(f\"第{i+1}期 zero rate = {zero_rate[i]:.4f}\")"
   ]
  },
  {
   "cell_type": "code",
   "execution_count": 3,
   "metadata": {},
   "outputs": [
    {
     "name": "stdout",
     "output_type": "stream",
     "text": [
      "85.79148872772036\n"
     ]
    }
   ],
   "source": [
    "bond_value = 0 # Calculate Pn\n",
    "for i in range(1, n + 1):\n",
    "    discount = 1\n",
    "    for j in range(1, i + 1):\n",
    "        discount /= (1 + yield_rate[n - 1] + yield_spread)\n",
    "    bond_value += discount * coupon\n",
    "    if i == n:\n",
    "        bond_value += face_value * discount\n",
    "print(bond_value)"
   ]
  },
  {
   "cell_type": "code",
   "execution_count": 12,
   "metadata": {},
   "outputs": [],
   "source": [
    "bond_price = bond_value\n",
    "High = 1\n",
    "Low = 0\n",
    "discount = 1\n",
    "\n",
    "while High - Low > 0.0001: # Error = 10^-4\n",
    "    Middle = (Low + High) / 2\n",
    "    value = 0\n",
    "    for i in range(1, n + 1):\n",
    "        discount = 1\n",
    "        for j in range(1, i + 1):\n",
    "            discount /= (1 + zero_rate[i - 1] + Middle)\n",
    "        value += discount * coupon\n",
    "        if i == n:\n",
    "            value += face_value * discount\n",
    "    value -= bond_price\n",
    "\n",
    "    if value > 0:\n",
    "        Low = Middle\n",
    "    else:\n",
    "        High = Middle"
   ]
  },
  {
   "cell_type": "code",
   "execution_count": 13,
   "metadata": {},
   "outputs": [
    {
     "name": "stdout",
     "output_type": "stream",
     "text": [
      "Static spread = 0.030029296875\n"
     ]
    }
   ],
   "source": [
    "print(f\"Static spread = {High}\")"
   ]
  },
  {
   "cell_type": "code",
   "execution_count": null,
   "metadata": {},
   "outputs": [],
   "source": []
  }
 ],
 "metadata": {
  "kernelspec": {
   "display_name": "Python 3",
   "language": "python",
   "name": "python3"
  },
  "language_info": {
   "codemirror_mode": {
    "name": "ipython",
    "version": 3
   },
   "file_extension": ".py",
   "mimetype": "text/x-python",
   "name": "python",
   "nbconvert_exporter": "python",
   "pygments_lexer": "ipython3",
   "version": "3.8.3"
  }
 },
 "nbformat": 4,
 "nbformat_minor": 4
}
