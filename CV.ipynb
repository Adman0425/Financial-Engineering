{
 "cells": [
  {
   "cell_type": "code",
   "execution_count": 24,
   "metadata": {},
   "outputs": [
    {
     "name": "stdout",
     "output_type": "stream",
     "text": [
      "99.46222797211611\n",
      "99.53882754857163\n",
      "1060.8248118017348\n"
     ]
    }
   ],
   "source": [
    "n = 4\n",
    "c = 1.5\n",
    "par = 100\n",
    "price = 99.5\n",
    "y = 0.0326 / 2\n",
    "y_minus = y + 0.0001\n",
    "y_plus = y - 0.0001\n",
    "price_minus = 0\n",
    "price_plus = 0\n",
    "\n",
    "for i in range(1, n+1):\n",
    "    discount_minus = 1\n",
    "    discount_plus = 1\n",
    "    for j in range(1, i+1):\n",
    "        discount_minus /= (1 + y_minus)\n",
    "        discount_plus /= (1 + y_plus)\n",
    "    price_minus += c * discount_minus\n",
    "    price_plus += c * discount_plus\n",
    "    if i == n:\n",
    "        price_minus += par * discount_minus\n",
    "        price_plus += par * discount_plus\n",
    "        \n",
    "print(price_minus)\n",
    "print(price_plus)\n",
    "\n",
    "cv = (10 ** 8) * (((price_minus - price) / price) + ((price_plus - price) / price))\n",
    "print(cv)"
   ]
  },
  {
   "cell_type": "code",
   "execution_count": null,
   "metadata": {},
   "outputs": [],
   "source": []
  }
 ],
 "metadata": {
  "kernelspec": {
   "display_name": "Python 3",
   "language": "python",
   "name": "python3"
  },
  "language_info": {
   "codemirror_mode": {
    "name": "ipython",
    "version": 3
   },
   "file_extension": ".py",
   "mimetype": "text/x-python",
   "name": "python",
   "nbconvert_exporter": "python",
   "pygments_lexer": "ipython3",
   "version": "3.8.3"
  }
 },
 "nbformat": 4,
 "nbformat_minor": 4
}
